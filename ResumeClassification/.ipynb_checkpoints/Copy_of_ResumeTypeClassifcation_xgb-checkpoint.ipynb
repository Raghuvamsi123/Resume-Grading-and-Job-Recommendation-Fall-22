{
 "cells": [
  {
   "cell_type": "markdown",
   "metadata": {
    "id": "FqlCl3NNvajW"
   },
   "source": [
    "### Import Libraires"
   ]
  },
  {
   "cell_type": "code",
   "execution_count": 32,
   "metadata": {
    "id": "y7lox1p0vajY"
   },
   "outputs": [],
   "source": [
    "import pandas as pd\n",
    "import numpy as np\n",
    "import nltk\n",
    "from nltk.corpus import stopwords\n",
    "from nltk.stem.snowball import SnowballStemmer\n",
    "from sklearn import preprocessing\n",
    "from sklearn.feature_extraction.text import CountVectorizer\n",
    "import matplotlib.pyplot as plt\n",
    "import re\n",
    "%matplotlib inline"
   ]
  },
  {
   "cell_type": "markdown",
   "metadata": {
    "id": "oC4THVT9vajZ"
   },
   "source": [
    "### Import Dataset"
   ]
  },
  {
   "cell_type": "code",
   "execution_count": 33,
   "metadata": {
    "colab": {
     "base_uri": "https://localhost:8080/",
     "height": 380
    },
    "id": "2U-jf-eqvaja",
    "outputId": "276da1e9-1e9d-4632-a422-c7d7b1e9841f"
   },
   "outputs": [
    {
     "name": "stdout",
     "output_type": "stream",
     "text": [
      "Index(['Resume_str', 'Resume_html', 'Category'], dtype='object')\n"
     ]
    },
    {
     "data": {
      "text/plain": [
       "(2484, 3)"
      ]
     },
     "execution_count": 33,
     "metadata": {},
     "output_type": "execute_result"
    }
   ],
   "source": [
    "#reading files\n",
    "resumeData = pd.read_csv(r'./ResumeData/Resume.csv', index_col = 0 , engine='python')\n",
    "\n",
    "print(resumeData.columns)\n",
    "resumeData.shape"
   ]
  },
  {
   "cell_type": "markdown",
   "metadata": {
    "id": "YXM6zkRdvajb"
   },
   "source": [
    "### Data visualization"
   ]
  },
  {
   "cell_type": "code",
   "execution_count": 34,
   "metadata": {
    "id": "Cpor1JKDvajb"
   },
   "outputs": [
    {
     "data": {
      "image/png": "[encoded data removed]",
      "text/plain": [
       "<Figure size 432x288 with 1 Axes>"
      ]
     },
     "metadata": {
      "needs_background": "light"
     },
     "output_type": "display_data"
    }
   ],
   "source": [
    "#Histogram\n",
    "plt.xticks(rotation = 90)\n",
    "plt.xlim([0, 23])\n",
    "plt.hist(resumeData['Category'])\n",
    "plt.ylabel('Frequency count')\n",
    "plt.xlabel('Data');\n",
    "plt.title('My histogram')\n",
    "plt.show()"
   ]
  },
  {
   "cell_type": "markdown",
   "metadata": {
    "id": "o7yQPUTqvajb"
   },
   "source": [
    "### Dropping Rows/Columns"
   ]
  },
  {
   "cell_type": "code",
   "execution_count": 35,
   "metadata": {
    "id": "GhFoFWb2vajc"
   },
   "outputs": [
    {
     "data": {
      "text/html": [
       "<div>\n",
       "<style scoped>\n",
       "    .dataframe tbody tr th:only-of-type {\n",
       "        vertical-align: middle;\n",
       "    }\n",
       "\n",
       "    .dataframe tbody tr th {\n",
       "        vertical-align: top;\n",
       "    }\n",
       "\n",
       "    .dataframe thead th {\n",
       "        text-align: right;\n",
       "    }\n",
       "</style>\n",
       "<table border=\"1\" class=\"dataframe\">\n",
       "  <thead>\n",
       "    <tr style=\"text-align: right;\">\n",
       "      <th></th>\n",
       "      <th>Resume_str</th>\n",
       "      <th>Category</th>\n",
       "    </tr>\n",
       "    <tr>\n",
       "      <th>ID</th>\n",
       "      <th></th>\n",
       "      <th></th>\n",
       "    </tr>\n",
       "  </thead>\n",
       "  <tbody>\n",
       "    <tr>\n",
       "      <th>16852973</th>\n",
       "      <td>HR ADMINISTRATOR/MARKETING ASSOCIATE\\...</td>\n",
       "      <td>HR</td>\n",
       "    </tr>\n",
       "    <tr>\n",
       "      <th>22323967</th>\n",
       "      <td>HR SPECIALIST, US HR OPERATIONS      ...</td>\n",
       "      <td>HR</td>\n",
       "    </tr>\n",
       "    <tr>\n",
       "      <th>33176873</th>\n",
       "      <td>HR DIRECTOR       Summary      Over 2...</td>\n",
       "      <td>HR</td>\n",
       "    </tr>\n",
       "    <tr>\n",
       "      <th>27018550</th>\n",
       "      <td>HR SPECIALIST       Summary    Dedica...</td>\n",
       "      <td>HR</td>\n",
       "    </tr>\n",
       "    <tr>\n",
       "      <th>17812897</th>\n",
       "      <td>HR MANAGER         Skill Highlights  ...</td>\n",
       "      <td>HR</td>\n",
       "    </tr>\n",
       "    <tr>\n",
       "      <th>...</th>\n",
       "      <td>...</td>\n",
       "      <td>...</td>\n",
       "    </tr>\n",
       "    <tr>\n",
       "      <th>99416532</th>\n",
       "      <td>RANK: SGT/E-5 NON- COMMISSIONED OFFIC...</td>\n",
       "      <td>AVIATION</td>\n",
       "    </tr>\n",
       "    <tr>\n",
       "      <th>24589765</th>\n",
       "      <td>GOVERNMENT RELATIONS, COMMUNICATIONS ...</td>\n",
       "      <td>AVIATION</td>\n",
       "    </tr>\n",
       "    <tr>\n",
       "      <th>31605080</th>\n",
       "      <td>GEEK SQUAD AGENT         Professional...</td>\n",
       "      <td>AVIATION</td>\n",
       "    </tr>\n",
       "    <tr>\n",
       "      <th>21190805</th>\n",
       "      <td>PROGRAM DIRECTOR / OFFICE MANAGER    ...</td>\n",
       "      <td>AVIATION</td>\n",
       "    </tr>\n",
       "    <tr>\n",
       "      <th>37473139</th>\n",
       "      <td>STOREKEEPER II       Professional Sum...</td>\n",
       "      <td>AVIATION</td>\n",
       "    </tr>\n",
       "  </tbody>\n",
       "</table>\n",
       "<p>2484 rows × 2 columns</p>\n",
       "</div>"
      ],
      "text/plain": [
       "                                                 Resume_str  Category\n",
       "ID                                                                   \n",
       "16852973           HR ADMINISTRATOR/MARKETING ASSOCIATE\\...        HR\n",
       "22323967           HR SPECIALIST, US HR OPERATIONS      ...        HR\n",
       "33176873           HR DIRECTOR       Summary      Over 2...        HR\n",
       "27018550           HR SPECIALIST       Summary    Dedica...        HR\n",
       "17812897           HR MANAGER         Skill Highlights  ...        HR\n",
       "...                                                     ...       ...\n",
       "99416532           RANK: SGT/E-5 NON- COMMISSIONED OFFIC...  AVIATION\n",
       "24589765           GOVERNMENT RELATIONS, COMMUNICATIONS ...  AVIATION\n",
       "31605080           GEEK SQUAD AGENT         Professional...  AVIATION\n",
       "21190805           PROGRAM DIRECTOR / OFFICE MANAGER    ...  AVIATION\n",
       "37473139           STOREKEEPER II       Professional Sum...  AVIATION\n",
       "\n",
       "[2484 rows x 2 columns]"
      ]
     },
     "execution_count": 35,
     "metadata": {},
     "output_type": "execute_result"
    }
   ],
   "source": [
    "#Drop null rows\n",
    "resumeData = resumeData.dropna()\n",
    "\n",
    "columnDrop = ['Resume_html']\n",
    "\n",
    "resumeData.drop(columnDrop, axis=1, inplace=True)\n",
    "\n",
    "resumeData\n"
   ]
  },
  {
   "cell_type": "markdown",
   "metadata": {
    "id": "mWjOC7yjvajc"
   },
   "source": [
    "### Combing Job Categories"
   ]
  },
  {
   "cell_type": "code",
   "execution_count": 36,
   "metadata": {
    "id": "74z-Wilpvajc"
   },
   "outputs": [
    {
     "name": "stdout",
     "output_type": "stream",
     "text": [
      "BUSINESSDEVELOPMENT      120\n",
      "INFORMATIONTECHNOLOGY    120\n",
      "ACCOUNTANT               118\n",
      "CHEF                     118\n",
      "ADVOCATE                 118\n",
      "FINANCE                  118\n",
      "ENGINEERING              118\n",
      "AVIATION                 117\n",
      "FITNESS                  117\n",
      "SALES                    116\n",
      "BANKING                  115\n",
      "HEALTHCARE               115\n",
      "CONSULTANT               115\n",
      "CONSTRUCTION             112\n",
      "PUBLICRELATIONS          111\n",
      "HR                       110\n",
      "DESIGNER                 107\n",
      "ARTS                     103\n",
      "TEACHER                  102\n",
      "APPAREL                   97\n",
      "DIGITALMEDIA              96\n",
      "AGRICULTURE               63\n",
      "AUTOMOBILE                36\n",
      "BPO                       22\n",
      "Name: Category, dtype: int64\n"
     ]
    },
    {
     "data": {
      "image/png": "[encoded data removed]",
      "text/plain": [
       "<Figure size 432x288 with 1 Axes>"
      ]
     },
     "metadata": {
      "needs_background": "light"
     },
     "output_type": "display_data"
    },
    {
     "data": {
      "text/plain": [
       "ARTS/FITNESS                          542\n",
       "ENGINEERING                           446\n",
       "FINANCE/BANKING/ACCOUNTING            351\n",
       "PUBLICRELATIONS/DIGITALMEDIA/SALES    323\n",
       "BUSINESS/HR                           252\n",
       "CONSULTANT/ADVOCATE                   233\n",
       "INFORMATIONTECHNOLOGY                 120\n",
       "HEALTHCARE                            115\n",
       "TEACHER                               102\n",
       "Name: Category, dtype: int64"
      ]
     },
     "execution_count": 36,
     "metadata": {},
     "output_type": "execute_result"
    }
   ],
   "source": [
    "resumeData['Category'] = resumeData['Category'].apply(lambda x: re.sub(r'[\\W\\s_-]', '', x.upper()))\n",
    "\n",
    "print(resumeData.Category.value_counts())\n",
    "\n",
    "#Combining Categories to reduce number of classes\n",
    "resumeData['Category'] = resumeData['Category'].replace(['FINANCE','BANKING', 'ACCOUNTING','ACCOUNTANT'],'FINANCE/BANKING/ACCOUNTING')\n",
    "resumeData['Category'] = resumeData['Category'].replace(['ARTS','DESIGNER', 'APPAREL','FITNESS', 'CHEF'],'ARTS/FITNESS')\n",
    "resumeData['Category'] = resumeData['Category'].replace(['BUSINESSDEVELOPMENT','HR', 'BPO'],'BUSINESS/HR')\n",
    "resumeData['Category'] = resumeData['Category'].replace(['AUTOMOBILE','ENGINEERING', 'CONSTRUCTION', 'AVIATION', 'AGRICULTURE'],'ENGINEERING')\n",
    "resumeData['Category'] = resumeData['Category'].replace(['PUBLICRELATIONS','DIGITALMEDIA', 'SALES'],'PUBLICRELATIONS/DIGITALMEDIA/SALES')\n",
    "resumeData['Category'] = resumeData['Category'].replace(['CONSULTANT','ADVOCATE'],'CONSULTANT/ADVOCATE')\n",
    "\n",
    "\n",
    "#New Histogram\n",
    "plt.xticks(rotation = 90)\n",
    "plt.xlim([0, 12])\n",
    "plt.hist(resumeData['Category'],\n",
    "         rwidth = 0.5)\n",
    "plt.ylabel('Frequency count')\n",
    "plt.xlabel('Data');\n",
    "plt.title('My histogram')\n",
    "plt.show()\n",
    "\n",
    "resumeData.Category.value_counts()"
   ]
  },
  {
   "cell_type": "markdown",
   "metadata": {
    "id": "JFSIxeIlvajd"
   },
   "source": [
    "### Stemmer"
   ]
  },
  {
   "cell_type": "code",
   "execution_count": 37,
   "metadata": {
    "id": "RdkLDtOvvajd"
   },
   "outputs": [
    {
     "name": "stderr",
     "output_type": "stream",
     "text": [
      "[nltk_data] Downloading package stopwords to C:\\nltk_data...\n",
      "[nltk_data]   Package stopwords is already up-to-date!\n"
     ]
    },
    {
     "data": {
      "text/html": [
       "<div>\n",
       "<style scoped>\n",
       "    .dataframe tbody tr th:only-of-type {\n",
       "        vertical-align: middle;\n",
       "    }\n",
       "\n",
       "    .dataframe tbody tr th {\n",
       "        vertical-align: top;\n",
       "    }\n",
       "\n",
       "    .dataframe thead th {\n",
       "        text-align: right;\n",
       "    }\n",
       "</style>\n",
       "<table border=\"1\" class=\"dataframe\">\n",
       "  <thead>\n",
       "    <tr style=\"text-align: right;\">\n",
       "      <th></th>\n",
       "      <th>Resume_str</th>\n",
       "      <th>Category</th>\n",
       "      <th>stopColumn</th>\n",
       "    </tr>\n",
       "    <tr>\n",
       "      <th>ID</th>\n",
       "      <th></th>\n",
       "      <th></th>\n",
       "      <th></th>\n",
       "    </tr>\n",
       "  </thead>\n",
       "  <tbody>\n",
       "    <tr>\n",
       "      <th>16852973</th>\n",
       "      <td>HR ADMINISTRATORMARKETING ASSOCIATE\\n...</td>\n",
       "      <td>BUSINESSHR</td>\n",
       "      <td>hr administratormarket associ hr administr sum...</td>\n",
       "    </tr>\n",
       "    <tr>\n",
       "      <th>22323967</th>\n",
       "      <td>HR SPECIALIST US HR OPERATIONS       ...</td>\n",
       "      <td>BUSINESSHR</td>\n",
       "      <td>hr specialist us hr oper summari versatil medi...</td>\n",
       "    </tr>\n",
       "    <tr>\n",
       "      <th>33176873</th>\n",
       "      <td>HR DIRECTOR       Summary      Over 2...</td>\n",
       "      <td>BUSINESSHR</td>\n",
       "      <td>hr director summari over 20 year experi recrui...</td>\n",
       "    </tr>\n",
       "    <tr>\n",
       "      <th>27018550</th>\n",
       "      <td>HR SPECIALIST       Summary    Dedica...</td>\n",
       "      <td>BUSINESSHR</td>\n",
       "      <td>hr specialist summari dedic driven dynam 20 ye...</td>\n",
       "    </tr>\n",
       "    <tr>\n",
       "      <th>17812897</th>\n",
       "      <td>HR MANAGER         Skill Highlights  ...</td>\n",
       "      <td>BUSINESSHR</td>\n",
       "      <td>hr manag skill highlight hr skill hr depart st...</td>\n",
       "    </tr>\n",
       "    <tr>\n",
       "      <th>...</th>\n",
       "      <td>...</td>\n",
       "      <td>...</td>\n",
       "      <td>...</td>\n",
       "    </tr>\n",
       "    <tr>\n",
       "      <th>99416532</th>\n",
       "      <td>RANK SGTE5 NON COMMISSIONED OFFICER I...</td>\n",
       "      <td>ENGINEERING</td>\n",
       "      <td>rank sgte5 non commiss offic in charg brigad m...</td>\n",
       "    </tr>\n",
       "    <tr>\n",
       "      <th>24589765</th>\n",
       "      <td>GOVERNMENT RELATIONS COMMUNICATIONS A...</td>\n",
       "      <td>ENGINEERING</td>\n",
       "      <td>govern relat communic and organiz develop dire...</td>\n",
       "    </tr>\n",
       "    <tr>\n",
       "      <th>31605080</th>\n",
       "      <td>GEEK SQUAD AGENT         Professional...</td>\n",
       "      <td>ENGINEERING</td>\n",
       "      <td>geek squad agent profession profil it support ...</td>\n",
       "    </tr>\n",
       "    <tr>\n",
       "      <th>21190805</th>\n",
       "      <td>PROGRAM DIRECTOR  OFFICE MANAGER     ...</td>\n",
       "      <td>ENGINEERING</td>\n",
       "      <td>program director offic manag summari high pers...</td>\n",
       "    </tr>\n",
       "    <tr>\n",
       "      <th>37473139</th>\n",
       "      <td>STOREKEEPER II       Professional Sum...</td>\n",
       "      <td>ENGINEERING</td>\n",
       "      <td>storekeep ii profession summari the purpos doc...</td>\n",
       "    </tr>\n",
       "  </tbody>\n",
       "</table>\n",
       "<p>2484 rows × 3 columns</p>\n",
       "</div>"
      ],
      "text/plain": [
       "                                                 Resume_str     Category  \\\n",
       "ID                                                                         \n",
       "16852973           HR ADMINISTRATORMARKETING ASSOCIATE\\n...   BUSINESSHR   \n",
       "22323967           HR SPECIALIST US HR OPERATIONS       ...   BUSINESSHR   \n",
       "33176873           HR DIRECTOR       Summary      Over 2...   BUSINESSHR   \n",
       "27018550           HR SPECIALIST       Summary    Dedica...   BUSINESSHR   \n",
       "17812897           HR MANAGER         Skill Highlights  ...   BUSINESSHR   \n",
       "...                                                     ...          ...   \n",
       "99416532           RANK SGTE5 NON COMMISSIONED OFFICER I...  ENGINEERING   \n",
       "24589765           GOVERNMENT RELATIONS COMMUNICATIONS A...  ENGINEERING   \n",
       "31605080           GEEK SQUAD AGENT         Professional...  ENGINEERING   \n",
       "21190805           PROGRAM DIRECTOR  OFFICE MANAGER     ...  ENGINEERING   \n",
       "37473139           STOREKEEPER II       Professional Sum...  ENGINEERING   \n",
       "\n",
       "                                                 stopColumn  \n",
       "ID                                                           \n",
       "16852973  hr administratormarket associ hr administr sum...  \n",
       "22323967  hr specialist us hr oper summari versatil medi...  \n",
       "33176873  hr director summari over 20 year experi recrui...  \n",
       "27018550  hr specialist summari dedic driven dynam 20 ye...  \n",
       "17812897  hr manag skill highlight hr skill hr depart st...  \n",
       "...                                                     ...  \n",
       "99416532  rank sgte5 non commiss offic in charg brigad m...  \n",
       "24589765  govern relat communic and organiz develop dire...  \n",
       "31605080  geek squad agent profession profil it support ...  \n",
       "21190805  program director offic manag summari high pers...  \n",
       "37473139  storekeep ii profession summari the purpos doc...  \n",
       "\n",
       "[2484 rows x 3 columns]"
      ]
     },
     "execution_count": 37,
     "metadata": {},
     "output_type": "execute_result"
    }
   ],
   "source": [
    "nltk.download('stopwords')\n",
    "\n",
    "#initialize objs\n",
    "stemmer = SnowballStemmer(\"english\")\n",
    "stop = stopwords.words('english')\n",
    "\n",
    "def stemStopResume(df):\n",
    "    #remove excess symbols\n",
    "    df = df.replace(r'[^\\w\\s]|_', '', regex=True)\n",
    "    \n",
    "    #remove stopwords\n",
    "    df['stopColumn'] = df['Resume_str'].apply(lambda x: ' '.join([word for word in x.split() if word not in (stop)]))\n",
    "    \n",
    "    #split and stem column\n",
    "    df['stopColumn'] = df['stopColumn'].str.split()\n",
    "    df['stopColumn'] = df['stopColumn'].apply(lambda x: ' '.join([stemmer.stem(y) for y in x]))\n",
    "    \n",
    "    #return modified df\n",
    "    return df\n",
    "\n",
    "resumeData = stemStopResume(resumeData)\n",
    "resumeData"
   ]
  },
  {
   "cell_type": "markdown",
   "metadata": {
    "id": "ZGinTbptvajd"
   },
   "source": [
    "### Vectorization"
   ]
  },
  {
   "cell_type": "code",
   "execution_count": 38,
   "metadata": {
    "id": "Dq5vGAW6vaje"
   },
   "outputs": [
    {
     "name": "stdout",
     "output_type": "stream",
     "text": [
      "['ARTSFITNESS' 'BUSINESSHR' 'CONSULTANTADVOCATE' 'ENGINEERING'\n",
      " 'FINANCEBANKINGACCOUNTING' 'HEALTHCARE' 'INFORMATIONTECHNOLOGY'\n",
      " 'PUBLICRELATIONSDIGITALMEDIASALES' 'TEACHER']\n",
      "Feature Count:  16272\n",
      "Index(['00', '000', '003', '01', '011977', '011979', '011980', '011981',\n",
      "       '011982', '011983',\n",
      "       ...\n",
      "       'âœpublish', 'âœteam', 'âœthank', 'âœthe', 'âœtop', 'âœwhat', 'âž',\n",
      "       'âˆ', 'ï¼', 'ï½â'],\n",
      "      dtype='object', length=16272)\n"
     ]
    },
    {
     "data": {
      "text/html": [
       "<div>\n",
       "<style scoped>\n",
       "    .dataframe tbody tr th:only-of-type {\n",
       "        vertical-align: middle;\n",
       "    }\n",
       "\n",
       "    .dataframe tbody tr th {\n",
       "        vertical-align: top;\n",
       "    }\n",
       "\n",
       "    .dataframe thead th {\n",
       "        text-align: right;\n",
       "    }\n",
       "</style>\n",
       "<table border=\"1\" class=\"dataframe\">\n",
       "  <thead>\n",
       "    <tr style=\"text-align: right;\">\n",
       "      <th></th>\n",
       "      <th>00</th>\n",
       "      <th>000</th>\n",
       "      <th>003</th>\n",
       "      <th>01</th>\n",
       "      <th>011977</th>\n",
       "      <th>011979</th>\n",
       "      <th>011980</th>\n",
       "      <th>011981</th>\n",
       "      <th>011982</th>\n",
       "      <th>011983</th>\n",
       "      <th>...</th>\n",
       "      <th>âœpublish</th>\n",
       "      <th>âœteam</th>\n",
       "      <th>âœthank</th>\n",
       "      <th>âœthe</th>\n",
       "      <th>âœtop</th>\n",
       "      <th>âœwhat</th>\n",
       "      <th>âž</th>\n",
       "      <th>âˆ</th>\n",
       "      <th>ï¼</th>\n",
       "      <th>ï½â</th>\n",
       "    </tr>\n",
       "  </thead>\n",
       "  <tbody>\n",
       "    <tr>\n",
       "      <th>0</th>\n",
       "      <td>0</td>\n",
       "      <td>0</td>\n",
       "      <td>0</td>\n",
       "      <td>0</td>\n",
       "      <td>0</td>\n",
       "      <td>0</td>\n",
       "      <td>0</td>\n",
       "      <td>0</td>\n",
       "      <td>0</td>\n",
       "      <td>0</td>\n",
       "      <td>...</td>\n",
       "      <td>0</td>\n",
       "      <td>0</td>\n",
       "      <td>0</td>\n",
       "      <td>0</td>\n",
       "      <td>0</td>\n",
       "      <td>0</td>\n",
       "      <td>0</td>\n",
       "      <td>0</td>\n",
       "      <td>9</td>\n",
       "      <td>0</td>\n",
       "    </tr>\n",
       "    <tr>\n",
       "      <th>1</th>\n",
       "      <td>0</td>\n",
       "      <td>0</td>\n",
       "      <td>0</td>\n",
       "      <td>0</td>\n",
       "      <td>0</td>\n",
       "      <td>0</td>\n",
       "      <td>0</td>\n",
       "      <td>0</td>\n",
       "      <td>0</td>\n",
       "      <td>0</td>\n",
       "      <td>...</td>\n",
       "      <td>0</td>\n",
       "      <td>0</td>\n",
       "      <td>0</td>\n",
       "      <td>0</td>\n",
       "      <td>0</td>\n",
       "      <td>0</td>\n",
       "      <td>0</td>\n",
       "      <td>0</td>\n",
       "      <td>7</td>\n",
       "      <td>0</td>\n",
       "    </tr>\n",
       "    <tr>\n",
       "      <th>2</th>\n",
       "      <td>0</td>\n",
       "      <td>0</td>\n",
       "      <td>0</td>\n",
       "      <td>0</td>\n",
       "      <td>0</td>\n",
       "      <td>0</td>\n",
       "      <td>0</td>\n",
       "      <td>0</td>\n",
       "      <td>0</td>\n",
       "      <td>0</td>\n",
       "      <td>...</td>\n",
       "      <td>0</td>\n",
       "      <td>0</td>\n",
       "      <td>0</td>\n",
       "      <td>0</td>\n",
       "      <td>0</td>\n",
       "      <td>0</td>\n",
       "      <td>0</td>\n",
       "      <td>0</td>\n",
       "      <td>0</td>\n",
       "      <td>0</td>\n",
       "    </tr>\n",
       "    <tr>\n",
       "      <th>3</th>\n",
       "      <td>0</td>\n",
       "      <td>0</td>\n",
       "      <td>0</td>\n",
       "      <td>0</td>\n",
       "      <td>0</td>\n",
       "      <td>0</td>\n",
       "      <td>0</td>\n",
       "      <td>0</td>\n",
       "      <td>0</td>\n",
       "      <td>0</td>\n",
       "      <td>...</td>\n",
       "      <td>0</td>\n",
       "      <td>0</td>\n",
       "      <td>0</td>\n",
       "      <td>0</td>\n",
       "      <td>0</td>\n",
       "      <td>0</td>\n",
       "      <td>0</td>\n",
       "      <td>0</td>\n",
       "      <td>4</td>\n",
       "      <td>0</td>\n",
       "    </tr>\n",
       "    <tr>\n",
       "      <th>4</th>\n",
       "      <td>0</td>\n",
       "      <td>0</td>\n",
       "      <td>0</td>\n",
       "      <td>0</td>\n",
       "      <td>0</td>\n",
       "      <td>0</td>\n",
       "      <td>0</td>\n",
       "      <td>0</td>\n",
       "      <td>0</td>\n",
       "      <td>0</td>\n",
       "      <td>...</td>\n",
       "      <td>0</td>\n",
       "      <td>0</td>\n",
       "      <td>0</td>\n",
       "      <td>0</td>\n",
       "      <td>0</td>\n",
       "      <td>0</td>\n",
       "      <td>0</td>\n",
       "      <td>0</td>\n",
       "      <td>5</td>\n",
       "      <td>0</td>\n",
       "    </tr>\n",
       "    <tr>\n",
       "      <th>...</th>\n",
       "      <td>...</td>\n",
       "      <td>...</td>\n",
       "      <td>...</td>\n",
       "      <td>...</td>\n",
       "      <td>...</td>\n",
       "      <td>...</td>\n",
       "      <td>...</td>\n",
       "      <td>...</td>\n",
       "      <td>...</td>\n",
       "      <td>...</td>\n",
       "      <td>...</td>\n",
       "      <td>...</td>\n",
       "      <td>...</td>\n",
       "      <td>...</td>\n",
       "      <td>...</td>\n",
       "      <td>...</td>\n",
       "      <td>...</td>\n",
       "      <td>...</td>\n",
       "      <td>...</td>\n",
       "      <td>...</td>\n",
       "      <td>...</td>\n",
       "    </tr>\n",
       "    <tr>\n",
       "      <th>2479</th>\n",
       "      <td>0</td>\n",
       "      <td>0</td>\n",
       "      <td>0</td>\n",
       "      <td>0</td>\n",
       "      <td>0</td>\n",
       "      <td>0</td>\n",
       "      <td>0</td>\n",
       "      <td>0</td>\n",
       "      <td>0</td>\n",
       "      <td>0</td>\n",
       "      <td>...</td>\n",
       "      <td>0</td>\n",
       "      <td>0</td>\n",
       "      <td>0</td>\n",
       "      <td>0</td>\n",
       "      <td>0</td>\n",
       "      <td>0</td>\n",
       "      <td>0</td>\n",
       "      <td>0</td>\n",
       "      <td>0</td>\n",
       "      <td>0</td>\n",
       "    </tr>\n",
       "    <tr>\n",
       "      <th>2480</th>\n",
       "      <td>0</td>\n",
       "      <td>0</td>\n",
       "      <td>0</td>\n",
       "      <td>0</td>\n",
       "      <td>0</td>\n",
       "      <td>0</td>\n",
       "      <td>0</td>\n",
       "      <td>0</td>\n",
       "      <td>0</td>\n",
       "      <td>0</td>\n",
       "      <td>...</td>\n",
       "      <td>0</td>\n",
       "      <td>0</td>\n",
       "      <td>0</td>\n",
       "      <td>0</td>\n",
       "      <td>0</td>\n",
       "      <td>0</td>\n",
       "      <td>0</td>\n",
       "      <td>0</td>\n",
       "      <td>0</td>\n",
       "      <td>0</td>\n",
       "    </tr>\n",
       "    <tr>\n",
       "      <th>2481</th>\n",
       "      <td>0</td>\n",
       "      <td>0</td>\n",
       "      <td>0</td>\n",
       "      <td>0</td>\n",
       "      <td>0</td>\n",
       "      <td>0</td>\n",
       "      <td>0</td>\n",
       "      <td>0</td>\n",
       "      <td>0</td>\n",
       "      <td>0</td>\n",
       "      <td>...</td>\n",
       "      <td>0</td>\n",
       "      <td>0</td>\n",
       "      <td>0</td>\n",
       "      <td>0</td>\n",
       "      <td>0</td>\n",
       "      <td>0</td>\n",
       "      <td>0</td>\n",
       "      <td>0</td>\n",
       "      <td>0</td>\n",
       "      <td>0</td>\n",
       "    </tr>\n",
       "    <tr>\n",
       "      <th>2482</th>\n",
       "      <td>0</td>\n",
       "      <td>0</td>\n",
       "      <td>0</td>\n",
       "      <td>0</td>\n",
       "      <td>0</td>\n",
       "      <td>0</td>\n",
       "      <td>0</td>\n",
       "      <td>0</td>\n",
       "      <td>0</td>\n",
       "      <td>0</td>\n",
       "      <td>...</td>\n",
       "      <td>0</td>\n",
       "      <td>0</td>\n",
       "      <td>0</td>\n",
       "      <td>0</td>\n",
       "      <td>0</td>\n",
       "      <td>0</td>\n",
       "      <td>0</td>\n",
       "      <td>0</td>\n",
       "      <td>6</td>\n",
       "      <td>0</td>\n",
       "    </tr>\n",
       "    <tr>\n",
       "      <th>2483</th>\n",
       "      <td>0</td>\n",
       "      <td>0</td>\n",
       "      <td>0</td>\n",
       "      <td>0</td>\n",
       "      <td>0</td>\n",
       "      <td>0</td>\n",
       "      <td>0</td>\n",
       "      <td>0</td>\n",
       "      <td>0</td>\n",
       "      <td>0</td>\n",
       "      <td>...</td>\n",
       "      <td>0</td>\n",
       "      <td>0</td>\n",
       "      <td>0</td>\n",
       "      <td>0</td>\n",
       "      <td>0</td>\n",
       "      <td>0</td>\n",
       "      <td>0</td>\n",
       "      <td>0</td>\n",
       "      <td>0</td>\n",
       "      <td>0</td>\n",
       "    </tr>\n",
       "  </tbody>\n",
       "</table>\n",
       "<p>2484 rows × 16272 columns</p>\n",
       "</div>"
      ],
      "text/plain": [
       "      00  000  003  01  011977  011979  011980  011981  011982  011983  ...  \\\n",
       "0      0    0    0   0       0       0       0       0       0       0  ...   \n",
       "1      0    0    0   0       0       0       0       0       0       0  ...   \n",
       "2      0    0    0   0       0       0       0       0       0       0  ...   \n",
       "3      0    0    0   0       0       0       0       0       0       0  ...   \n",
       "4      0    0    0   0       0       0       0       0       0       0  ...   \n",
       "...   ..  ...  ...  ..     ...     ...     ...     ...     ...     ...  ...   \n",
       "2479   0    0    0   0       0       0       0       0       0       0  ...   \n",
       "2480   0    0    0   0       0       0       0       0       0       0  ...   \n",
       "2481   0    0    0   0       0       0       0       0       0       0  ...   \n",
       "2482   0    0    0   0       0       0       0       0       0       0  ...   \n",
       "2483   0    0    0   0       0       0       0       0       0       0  ...   \n",
       "\n",
       "      âœpublish  âœteam  âœthank  âœthe  âœtop  âœwhat  âž  âˆ  ï¼  ï½â  \n",
       "0             0       0        0      0      0       0   0   0   9    0  \n",
       "1             0       0        0      0      0       0   0   0   7    0  \n",
       "2             0       0        0      0      0       0   0   0   0    0  \n",
       "3             0       0        0      0      0       0   0   0   4    0  \n",
       "4             0       0        0      0      0       0   0   0   5    0  \n",
       "...         ...     ...      ...    ...    ...     ...  ..  ..  ..  ...  \n",
       "2479          0       0        0      0      0       0   0   0   0    0  \n",
       "2480          0       0        0      0      0       0   0   0   0    0  \n",
       "2481          0       0        0      0      0       0   0   0   0    0  \n",
       "2482          0       0        0      0      0       0   0   0   6    0  \n",
       "2483          0       0        0      0      0       0   0   0   0    0  \n",
       "\n",
       "[2484 rows x 16272 columns]"
      ]
     },
     "execution_count": 38,
     "metadata": {},
     "output_type": "execute_result"
    }
   ],
   "source": [
    "import pickle\n",
    "label_encoder = None\n",
    "def resume_vectorizer(data,labels ,m = 1.0 , n = 2) :\n",
    "    global label_encoder\n",
    "    label_encoder = preprocessing.LabelEncoder()\n",
    "    # vectorizing the lables i.e To numerical values using label_encoder\n",
    "    \n",
    "    labels = label_encoder.fit_transform(labels)\n",
    "    print((label_encoder.classes_))\n",
    "  \n",
    "    # Now vectorizing the data i.e. Creating features based on data\n",
    "    cv = CountVectorizer(max_df = m , min_df = n )\n",
    "    data_cv = cv.fit_transform(data)\n",
    "    data_cv_array = data_cv.toarray()\n",
    "    \n",
    "    feature_names =cv.get_feature_names_out()\n",
    "    print('Feature Count: ', len(feature_names))\n",
    "    \n",
    "    dataframe = pd.DataFrame(data_cv_array, columns = feature_names)\n",
    "    pickle.dump(cv, open('vectorizer', 'wb'))\n",
    "    return dataframe , labels\n",
    "\n",
    "vectorDataFrame , resumeData['Category'] = resume_vectorizer(resumeData['stopColumn'], resumeData['Category'])\n",
    "\n",
    "print(vectorDataFrame.columns)\n",
    "vectorDataFrame"
   ]
  },
  {
   "cell_type": "markdown",
   "metadata": {
    "id": "O96X2SA4vaje"
   },
   "source": [
    "# Models"
   ]
  },
  {
   "cell_type": "code",
   "execution_count": 24,
   "metadata": {
    "id": "KtnxBUl7vaje"
   },
   "outputs": [
    {
     "data": {
      "text/html": [
       "<style>#sk-container-id-2 {color: black;background-color: white;}#sk-container-id-2 pre{padding: 0;}#sk-container-id-2 div.sk-toggleable {background-color: white;}#sk-container-id-2 label.sk-toggleable__label {cursor: pointer;display: block;width: 100%;margin-bottom: 0;padding: 0.3em;box-sizing: border-box;text-align: center;}#sk-container-id-2 label.sk-toggleable__label-arrow:before {content: \"▸\";float: left;margin-right: 0.25em;color: #696969;}#sk-container-id-2 label.sk-toggleable__label-arrow:hover:before {color: black;}#sk-container-id-2 div.sk-estimator:hover label.sk-toggleable__label-arrow:before {color: black;}#sk-container-id-2 div.sk-toggleable__content {max-height: 0;max-width: 0;overflow: hidden;text-align: left;background-color: #f0f8ff;}#sk-container-id-2 div.sk-toggleable__content pre {margin: 0.2em;color: black;border-radius: 0.25em;background-color: #f0f8ff;}#sk-container-id-2 input.sk-toggleable__control:checked~div.sk-toggleable__content {max-height: 200px;max-width: 100%;overflow: auto;}#sk-container-id-2 input.sk-toggleable__control:checked~label.sk-toggleable__label-arrow:before {content: \"▾\";}#sk-container-id-2 div.sk-estimator input.sk-toggleable__control:checked~label.sk-toggleable__label {background-color: #d4ebff;}#sk-container-id-2 div.sk-label input.sk-toggleable__control:checked~label.sk-toggleable__label {background-color: #d4ebff;}#sk-container-id-2 input.sk-hidden--visually {border: 0;clip: rect(1px 1px 1px 1px);clip: rect(1px, 1px, 1px, 1px);height: 1px;margin: -1px;overflow: hidden;padding: 0;position: absolute;width: 1px;}#sk-container-id-2 div.sk-estimator {font-family: monospace;background-color: #f0f8ff;border: 1px dotted black;border-radius: 0.25em;box-sizing: border-box;margin-bottom: 0.5em;}#sk-container-id-2 div.sk-estimator:hover {background-color: #d4ebff;}#sk-container-id-2 div.sk-parallel-item::after {content: \"\";width: 100%;border-bottom: 1px solid gray;flex-grow: 1;}#sk-container-id-2 div.sk-label:hover label.sk-toggleable__label {background-color: #d4ebff;}#sk-container-id-2 div.sk-serial::before {content: \"\";position: absolute;border-left: 1px solid gray;box-sizing: border-box;top: 0;bottom: 0;left: 50%;z-index: 0;}#sk-container-id-2 div.sk-serial {display: flex;flex-direction: column;align-items: center;background-color: white;padding-right: 0.2em;padding-left: 0.2em;position: relative;}#sk-container-id-2 div.sk-item {position: relative;z-index: 1;}#sk-container-id-2 div.sk-parallel {display: flex;align-items: stretch;justify-content: center;background-color: white;position: relative;}#sk-container-id-2 div.sk-item::before, #sk-container-id-2 div.sk-parallel-item::before {content: \"\";position: absolute;border-left: 1px solid gray;box-sizing: border-box;top: 0;bottom: 0;left: 50%;z-index: -1;}#sk-container-id-2 div.sk-parallel-item {display: flex;flex-direction: column;z-index: 1;position: relative;background-color: white;}#sk-container-id-2 div.sk-parallel-item:first-child::after {align-self: flex-end;width: 50%;}#sk-container-id-2 div.sk-parallel-item:last-child::after {align-self: flex-start;width: 50%;}#sk-container-id-2 div.sk-parallel-item:only-child::after {width: 0;}#sk-container-id-2 div.sk-dashed-wrapped {border: 1px dashed gray;margin: 0 0.4em 0.5em 0.4em;box-sizing: border-box;padding-bottom: 0.4em;background-color: white;}#sk-container-id-2 div.sk-label label {font-family: monospace;font-weight: bold;display: inline-block;line-height: 1.2em;}#sk-container-id-2 div.sk-label-container {text-align: center;}#sk-container-id-2 div.sk-container {/* jupyter's `normalize.less` sets `[hidden] { display: none; }` but bootstrap.min.css set `[hidden] { display: none !important; }` so we also need the `!important` here to be able to override the default hidden behavior on the sphinx rendered scikit-learn.org. See: https://github.com/scikit-learn/scikit-learn/issues/21755 */display: inline-block !important;position: relative;}#sk-container-id-2 div.sk-text-repr-fallback {display: none;}</style><div id=\"sk-container-id-2\" class=\"sk-top-container\"><div class=\"sk-text-repr-fallback\"><pre>XGBClassifier(base_score=0.5, booster=&#x27;gbtree&#x27;, callbacks=None,\n",
       "              colsample_bylevel=1, colsample_bynode=1, colsample_bytree=1,\n",
       "              early_stopping_rounds=None, enable_categorical=False,\n",
       "              eval_metric=None, gamma=0, gpu_id=-1, grow_policy=&#x27;depthwise&#x27;,\n",
       "              importance_type=None, interaction_constraints=&#x27;&#x27;,\n",
       "              learning_rate=0.300000012, max_bin=256, max_cat_to_onehot=4,\n",
       "              max_delta_step=0, max_depth=6, max_leaves=0, min_child_weight=1,\n",
       "              missing=nan, monotone_constraints=&#x27;()&#x27;, n_estimators=100,\n",
       "              n_jobs=0, num_parallel_tree=1, objective=&#x27;multi:softprob&#x27;,\n",
       "              predictor=&#x27;auto&#x27;, random_state=0, reg_alpha=0, ...)</pre><b>In a Jupyter environment, please rerun this cell to show the HTML representation or trust the notebook. <br />On GitHub, the HTML representation is unable to render, please try loading this page with nbviewer.org.</b></div><div class=\"sk-container\" hidden><div class=\"sk-item\"><div class=\"sk-estimator sk-toggleable\"><input class=\"sk-toggleable__control sk-hidden--visually\" id=\"sk-estimator-id-2\" type=\"checkbox\" checked><label for=\"sk-estimator-id-2\" class=\"sk-toggleable__label sk-toggleable__label-arrow\">XGBClassifier</label><div class=\"sk-toggleable__content\"><pre>XGBClassifier(base_score=0.5, booster=&#x27;gbtree&#x27;, callbacks=None,\n",
       "              colsample_bylevel=1, colsample_bynode=1, colsample_bytree=1,\n",
       "              early_stopping_rounds=None, enable_categorical=False,\n",
       "              eval_metric=None, gamma=0, gpu_id=-1, grow_policy=&#x27;depthwise&#x27;,\n",
       "              importance_type=None, interaction_constraints=&#x27;&#x27;,\n",
       "              learning_rate=0.300000012, max_bin=256, max_cat_to_onehot=4,\n",
       "              max_delta_step=0, max_depth=6, max_leaves=0, min_child_weight=1,\n",
       "              missing=nan, monotone_constraints=&#x27;()&#x27;, n_estimators=100,\n",
       "              n_jobs=0, num_parallel_tree=1, objective=&#x27;multi:softprob&#x27;,\n",
       "              predictor=&#x27;auto&#x27;, random_state=0, reg_alpha=0, ...)</pre></div></div></div></div></div>"
      ],
      "text/plain": [
       "XGBClassifier(base_score=0.5, booster='gbtree', callbacks=None,\n",
       "              colsample_bylevel=1, colsample_bynode=1, colsample_bytree=1,\n",
       "              early_stopping_rounds=None, enable_categorical=False,\n",
       "              eval_metric=None, gamma=0, gpu_id=-1, grow_policy='depthwise',\n",
       "              importance_type=None, interaction_constraints='',\n",
       "              learning_rate=0.300000012, max_bin=256, max_cat_to_onehot=4,\n",
       "              max_delta_step=0, max_depth=6, max_leaves=0, min_child_weight=1,\n",
       "              missing=nan, monotone_constraints='()', n_estimators=100,\n",
       "              n_jobs=0, num_parallel_tree=1, objective='multi:softprob',\n",
       "              predictor='auto', random_state=0, reg_alpha=0, ...)"
      ]
     },
     "execution_count": 24,
     "metadata": {},
     "output_type": "execute_result"
    }
   ],
   "source": [
    "import xgboost as xgb\n",
    "from sklearn.model_selection import train_test_split\n",
    "\n",
    "x = vectorDataFrame\n",
    "y = resumeData['Category']\n",
    "\n",
    "X_train, X_test, y_train, y_test = train_test_split(x, y, test_size = 0.2, random_state = 5 , stratify = y) \n",
    "\n",
    "xgb_classifier = xgb.XGBClassifier()\n",
    "xgb_classifier.fit(X_train,y_train)\n",
    "\n"
   ]
  },
  {
   "cell_type": "code",
   "execution_count": 25,
   "metadata": {
    "id": "XskcfGbFv7QN"
   },
   "outputs": [],
   "source": [
    "predictions = xgb_classifier.predict(X_test)"
   ]
  },
  {
   "cell_type": "code",
   "execution_count": 26,
   "metadata": {
    "id": "cMrQ1dUrwAW6"
   },
   "outputs": [
    {
     "name": "stdout",
     "output_type": "stream",
     "text": [
      "Accuracy of Model:: 0.7484909456740443\n"
     ]
    }
   ],
   "source": [
    "from sklearn.metrics import accuracy_score\n",
    "print(\"Accuracy of Model::\",accuracy_score(y_test,predictions))"
   ]
  },
  {
   "cell_type": "code",
   "execution_count": 27,
   "metadata": {
    "id": "TJXmTcYSyrH4"
   },
   "outputs": [],
   "source": [
    "# import pickle\n",
    "# filename = \"xgb_model\"\n",
    "\n",
    "# pickle.dump(xgb_classifier , open(filename , 'wb'))\n",
    "\n",
    "xgb_classifier.save_model(\"model.txt\")\n"
   ]
  },
  {
   "cell_type": "code",
   "execution_count": 40,
   "metadata": {
    "id": "BDMy0EBxz9uI"
   },
   "outputs": [
    {
     "data": {
      "image/png": "[encoded data removed]",
      "text/plain": [
       "<Figure size 432x288 with 2 Axes>"
      ]
     },
     "metadata": {
      "needs_background": "light"
     },
     "output_type": "display_data"
    }
   ],
   "source": [
    "from sklearn.metrics import confusion_matrix\n",
    "import seaborn as sns\n",
    "labels = resumeData['Category'].unique()\n",
    "confusionMatrix = confusion_matrix(\n",
    "    label_encoder.inverse_transform(y_test),\n",
    "    label_encoder.inverse_transform(predictions) , \n",
    "    labels=label_encoder.classes_, \n",
    "    normalize='pred'\n",
    ")\n",
    "heatMapData = pd.DataFrame(confusionMatrix , index=label_encoder.classes_, columns=label_encoder.classes_, )\n",
    "\n",
    "sns.heatmap(heatMapData, annot = True, fmt = '.2f')\n",
    "plt.title('Confusion matrix')\n",
    "plt.xlabel('PRED')\n",
    "plt.ylabel('REAL')\n",
    "\n",
    "plt.show()"
   ]
  }
 ],
 "metadata": {
  "accelerator": "GPU",
  "colab": {
   "provenance": []
  },
  "kernelspec": {
   "display_name": "Python 3",
   "language": "python",
   "name": "python3"
  },
  "language_info": {
   "codemirror_mode": {
    "name": "ipython",
    "version": 3
   },
   "file_extension": ".py",
   "mimetype": "text/x-python",
   "name": "python",
   "nbconvert_exporter": "python",
   "pygments_lexer": "ipython3",
   "version": "3.8.3"
  }
 },
 "nbformat": 4,
 "nbformat_minor": 1
}
