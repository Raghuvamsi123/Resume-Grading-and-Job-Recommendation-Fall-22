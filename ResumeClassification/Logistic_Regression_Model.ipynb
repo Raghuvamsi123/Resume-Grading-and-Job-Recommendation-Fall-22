{
 "cells": [
  {
   "cell_type": "code",
   "execution_count": 12,
   "id": "6a23bec8",
   "metadata": {},
   "outputs": [],
   "source": [
    "from sklearn.feature_extraction.text import CountVectorizer\n",
    "import pickle\n",
    "import pandas as pd"
   ]
  },
  {
   "cell_type": "code",
   "execution_count": 36,
   "id": "0b6a2d3c",
   "metadata": {},
   "outputs": [
    {
     "name": "stdout",
     "output_type": "stream",
     "text": [
      "Enter your resume: FREELANCE GRAPHIC DESIGNER       Summary    Accomplished Graphic Designer  with over 15 years experience in graphic design: camera ready, color separation, layout, editing, research, advertising, public relations, project manager,  photography, web ad and logo design, etc. Excellent communication skills     \t    Effective problem solver and multi-tasker\t *4-color separation, fake color & digital photography          Research and edit material for final publications *Detailed oriented, always met deadlines\t         Proficient in organizing & monitoring large projects *Effective Spanish translator and interpreter          Excellent customer service and team player      Highlights          Mac & Windows platforms  Hardware: Scanners, laser & inkjet printers, and large format color poster printers  Software: Adobe CS5: Photoshop, Illustrator, Dreamweaver, InDesign, Flash, Acrobat Pro 9.5, Corel Draw X6, Photoshop Elements 8,  MS Office and Visio Professional. Adobe Flash CS5.5 animation certification.  Cameras: 35 mm and digital cameras: Canon Rebel Xti and Sony F828  Typing: 80                Experience      Freelance Graphic Designer   09/2008   to   Current        City  ,   State       Logo designs, color separation, duotones, book covers, banners, website buttons, thesis, portfolios, brochures, menus, web design, multimedia presentation, pre-press, illustration, animation, movie clips, magazine covers, etc.          Fine Artist       City  ,   State       Commission work in 2D (illustration, airbrushing, charcoals, oils, acrylics, etc.) and 3D (functional and decorative pottery and clay sculpture in cone 9 and raku).          Visual Merchandising Manager   10/2004   to   08/2008     Company Name   City         Created marketing campaigns to launch new products or services or to promote large annual events; such as: wine festivals, fashion shows, book signings, celebrity meet and greets, etc.  Ordered computer hardware, office supplies, graphic tools and materials.  Conceived, initiated and developed original designs, concepts and visual layout to create several publications, exhibits, presentation materials, using stock photography, own digital images taken with digital cameras and illustration by selecting appropriate typography, size, paper stock, weight and color to print logos, menus, bi/trifold brochures, flyers, posters, food menus, placemats, booklets, magazine covers, tickets, signs, TV/presentation slides, t-shirt designs, bookmarks, newspaper ads and pages, certificates, diplomas, web page ads, CD covers, forms, banners, teasers, etc.  to promote several in-store events, programs, sales, book signings, fashion shows, and large community events: wine festivals, book signings and celebrity meet and greets.  Contacted and maintained excellent business relations with local print shops, vendors, community leaders, public affairs office.  Possessed full knowledge of required print shop forms; such as: single item, hot shop, and weekly, quarterly and monthly requisition forms.  Proficient with print shop guidelines, including time requirements and layout presentations for camera ready artwork.  Remained abreast of the technical characteristics of reproduction processes; such as: offset and screen printing, mechanics of cropping, scaling and reproduction costs.  Katia I.  Miller Page 2 Key Accomplishments: \n"
     ]
    },
    {
     "data": {
      "text/plain": [
       "array(['ENGINEERING'], dtype=object)"
      ]
     },
     "execution_count": 36,
     "metadata": {},
     "output_type": "execute_result"
    }
   ],
   "source": [
    "logistic_reg_pickled_model = pickle.load(open('logistic_regression_model', 'rb'))\n",
    "countvectorizer_pickled = pickle.load(open('vectorizer', 'rb'))\n",
    "resume = input(\"Enter your resume: \")\n",
    "def predict(resume):\n",
    "    vect_resume_arr = vectorizeText.transform(resume).toarray()\n",
    "    feature_names =countvectorizer_pickled.get_feature_names_out()\n",
    "    vecDF = pd.DataFrame(vect_resume_arr, columns = feature_names)\n",
    "    \n",
    "    prediction = model.predict(vecDF)\n",
    "    return prediction\n",
    "f = open('input_resume', 'r')\n",
    "predict([resume])\n",
    "    "
   ]
  },
  {
   "cell_type": "code",
   "execution_count": null,
   "id": "8cd18a80",
   "metadata": {},
   "outputs": [],
   "source": [
    "#amplify for front end\n",
    "#run things on sage maker endpoint"
   ]
  },
  {
   "cell_type": "code",
   "execution_count": null,
   "id": "85ecd701",
   "metadata": {},
   "outputs": [],
   "source": []
  }
 ],
 "metadata": {
  "kernelspec": {
   "display_name": "Python 3 (ipykernel)",
   "language": "python",
   "name": "python3"
  },
  "language_info": {
   "codemirror_mode": {
    "name": "ipython",
    "version": 3
   },
   "file_extension": ".py",
   "mimetype": "text/x-python",
   "name": "python",
   "nbconvert_exporter": "python",
   "pygments_lexer": "ipython3",
   "version": "3.9.12"
  }
 },
 "nbformat": 4,
 "nbformat_minor": 5
}
